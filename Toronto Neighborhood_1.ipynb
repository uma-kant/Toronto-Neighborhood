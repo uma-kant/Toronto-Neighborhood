{
    "nbformat_minor": 2, 
    "cells": [
        {
            "source": "# Toronto Neighborhood, Explore, Analyze and Cluster\n### Toronto M Postal Code Data ", 
            "cell_type": "markdown", 
            "metadata": {}
        }, 
        {
            "source": "### Table of Contents\n1. [Installing and Importing of Libraries](#libraries)\n2. [Part 1 Data Identification and Preparation ](#Part1)\n3. [Part 2 Getting Latitude and Longitude of neighbourhood](#Part2)\n4. [Part 3 Clustring Toronto Neighbourhood](#Part3)", 
            "cell_type": "markdown", 
            "metadata": {}
        }, 
        {
            "source": "__ __", 
            "cell_type": "markdown", 
            "metadata": {}
        }, 
        {
            "source": "### 1. Installing and Importing of Libraries <a class=\"anchor\" id=\"libraries\"></a>", 
            "cell_type": "markdown", 
            "metadata": {}
        }, 
        {
            "execution_count": 1, 
            "cell_type": "code", 
            "metadata": {}, 
            "outputs": [
                {
                    "output_type": "stream", 
                    "name": "stdout", 
                    "text": "Installing Libraries...\n\nSolving environment: done\n\n## Package Plan ##\n\n  environment location: /home/jupyterlab/conda\n\n  added / updated specs: \n    - beautifulsoup4\n\n\nThe following packages will be downloaded:\n\n    package                    |            build\n    ---------------------------|-----------------\n    soupsieve-1.7.3            |           py36_0          52 KB  conda-forge\n    cryptography-2.4.2         |   py36h1ba5d50_0         618 KB\n    beautifulsoup4-4.7.1       |        py36_1001         140 KB  conda-forge\n    openssl-1.1.1a             |    h14c3975_1000         4.0 MB  conda-forge\n    libarchive-3.3.3           |       h5d8350f_5         1.5 MB\n    grpcio-1.16.1              |   py36hf8bcb03_1         1.1 MB\n    conda-4.6.2                |           py36_0         869 KB  conda-forge\n    libssh2-1.8.0              |                1         239 KB  conda-forge\n    python-3.6.8               |       h0371630_0        34.4 MB\n    ------------------------------------------------------------\n                                           Total:        42.8 MB\n\nThe following NEW packages will be INSTALLED:\n\n    soupsieve:      1.7.3-py36_0             conda-forge\n\nThe following packages will be UPDATED:\n\n    beautifulsoup4: 4.6.3-py36_0             anaconda    --> 4.7.1-py36_1001         conda-forge\n    conda:          4.5.12-py36_1000         conda-forge --> 4.6.2-py36_0            conda-forge\n    cryptography:   2.3.1-py36hb7f436b_1000  conda-forge --> 2.4.2-py36h1ba5d50_0               \n    curl:           7.63.0-h646f8bb_1000     conda-forge --> 7.63.0-hbc83047_1000               \n    grpcio:         1.16.0-py36h4f00d22_1000 conda-forge --> 1.16.1-py36hf8bcb03_1              \n    libcurl:        7.63.0-h01ee5af_1000     conda-forge --> 7.63.0-h20c2e04_1000               \n    openssl:        1.0.2p-h14c3975_1002     conda-forge --> 1.1.1a-h14c3975_1000    conda-forge\n    pycurl:         7.43.0.2-py36hb7f436b_0              --> 7.43.0.2-py36h1ba5d50_0            \n    python:         3.6.6-hd21baee_1003      conda-forge --> 3.6.8-h0371630_0                   \n    qt:             5.9.6-h8703b6f_2                     --> 5.9.7-h5867ecd_1                   \n\nThe following packages will be DOWNGRADED:\n\n    krb5:           1.16.2-hc83ff2d_1000     conda-forge --> 1.16.1-h173b8e3_7                  \n    libarchive:     3.3.3-ha149a29_1000      conda-forge --> 3.3.3-h5d8350f_5                   \n    libssh2:        1.8.0-h1ad7b7a_1003      conda-forge --> 1.8.0-1                 conda-forge\n\n\nDownloading and Extracting Packages\nsoupsieve-1.7.3      | 52 KB     | ##################################### | 100% \ncryptography-2.4.2   | 618 KB    | ##################################### | 100% \nbeautifulsoup4-4.7.1 | 140 KB    | ##################################### | 100% \nopenssl-1.1.1a       | 4.0 MB    | ##################################### | 100% \nlibarchive-3.3.3     | 1.5 MB    | ##################################### | 100% \ngrpcio-1.16.1        | 1.1 MB    | ##################################### | 100% \nconda-4.6.2          | 869 KB    | ##################################### | 100% \nlibssh2-1.8.0        | 239 KB    | ##################################### | 100% \npython-3.6.8         | 34.4 MB   | ##################################### | 100% \nPreparing transaction: done\nVerifying transaction: done\nExecuting transaction: done\nBeautifulSoup4 has been successfully installed!\n\nCollecting package metadata: done\nSolving environment: done\n\n## Package Plan ##\n\n  environment location: /home/jupyterlab/conda\n\n  added / updated specs:\n    - progressbar2\n\n\nThe following packages will be downloaded:\n\n    package                    |            build\n    ---------------------------|-----------------\n    progressbar2-3.38.0        |             py_1          19 KB  conda-forge\n    pytest-runner-4.2          |             py_1           8 KB  conda-forge\n    python-utils-2.3.0         |             py_1          11 KB  conda-forge\n    ------------------------------------------------------------\n                                           Total:          38 KB\n\nThe following NEW packages will be INSTALLED:\n\n  progressbar2       conda-forge/noarch::progressbar2-3.38.0-py_1\n  pytest-runner      conda-forge/noarch::pytest-runner-4.2-py_1\n  python-utils       conda-forge/noarch::python-utils-2.3.0-py_1\n\n\n\nDownloading and Extracting Packages\npytest-runner-4.2    | 8 KB      | ##################################### | 100% \npython-utils-2.3.0   | 11 KB     | ##################################### | 100% \nprogressbar2-3.38.0  | 19 KB     | ##################################### | 100% \nPreparing transaction: done\nVerifying transaction: done\nExecuting transaction: done\nProgressBar has been successfully installed!\n\nCollecting package metadata: done\nSolving environment: done\n\n## Package Plan ##\n\n  environment location: /home/jupyterlab/conda\n\n  added / updated specs:\n    - lxml\n\n\nThe following packages will be downloaded:\n\n    package                    |            build\n    ---------------------------|-----------------\n    lxml-4.3.0                 |py36h23eabaa_1000         1.5 MB  conda-forge\n    ------------------------------------------------------------\n                                           Total:         1.5 MB\n\nThe following packages will be UPDATED:\n\n  lxml                  anaconda::lxml-4.2.5-py36hefd8a0e_0 --> conda-forge::lxml-4.3.0-py36h23eabaa_1000\n\n\n\nDownloading and Extracting Packages\nlxml-4.3.0           | 1.5 MB    | ##################################### | 100% \nPreparing transaction: done\nVerifying transaction: done\nExecuting transaction: done\nlxml has been successfully installed!\n\nCollecting package metadata: done\nSolving environment: done\n\n## Package Plan ##\n\n  environment location: /home/jupyterlab/conda\n\n  added / updated specs:\n    - geopy\n\n\nThe following packages will be downloaded:\n\n    package                    |            build\n    ---------------------------|-----------------\n    geographiclib-1.49         |             py_0          32 KB  conda-forge\n    geopy-1.18.1               |             py_0          51 KB  conda-forge\n    ------------------------------------------------------------\n                                           Total:          84 KB\n\nThe following NEW packages will be INSTALLED:\n\n  geographiclib      conda-forge/noarch::geographiclib-1.49-py_0\n\nThe following packages will be UPDATED:\n\n  geopy              conda-forge/linux-64::geopy-1.11.0-py~ --> conda-forge/noarch::geopy-1.18.1-py_0\n\n\n\nDownloading and Extracting Packages\ngeopy-1.18.1         | 51 KB     | ##################################### | 100% \ngeographiclib-1.49   | 32 KB     | ##################################### | 100% \nPreparing transaction: done\nVerifying transaction: done\nExecuting transaction: done\nGeoPy has been successfully installed!\n\nCollecting package metadata: done\nSolving environment: done\n\n# All requested packages already installed.\n\nFolium has been successfully installed!\n\nLibraries has been successfully installed!\n\nImporting libraries...\n\nAll libraries imported successfully!\n\n"
                }
            ], 
            "source": "try:\n    print(\"Installing Libraries...\\n\")\n    !conda install -c conda-forge beautifulsoup4 --yes\n    print(\"BeautifulSoup4 has been successfully installed!\\n\")\n    !conda install -c conda-forge ProgressBar2 --yes\n    print(\"ProgressBar has been successfully installed!\\n\")\n    !conda install -c conda-forge lxml --yes\n    print(\"lxml has been successfully installed!\\n\")\n    !conda install -c conda-forge geopy --yes\n    print(\"GeoPy has been successfully installed!\\n\")\n    !conda install -c conda-forge folium=0.5.0 --yes\n    print(\"Folium has been successfully installed!\\n\")\n    print(\"Libraries has been successfully installed!\\n\")\nexcept:\n    print(\"ERROR: could not install Libraries!\\n\")\n\ntry:\n    print(\"Importing libraries...\\n\")\n    import numpy as np # library to handle data in a vectorized manner\n    import pandas as pd # library for data analysis\n    from bs4 import BeautifulSoup as bts # library for web scraping\n    from pandas.io.json import json_normalize\n    from IPython.display import Image \n    from IPython.core.display import HTML \n    import matplotlib as mp # library for visualization\n    import matplotlib.cm as cm\n    import matplotlib.colors as colors\n    import requests # library to handle requests\n    from geopy.geocoders import Nominatim # convert an address into latitude and longitude values\n    from sklearn.cluster import KMeans # import k-means from clustering stage\n    import folium # map rendering library\n    import lxml\n    import re\n    from time import sleep\n    print(\"All libraries imported successfully!\\n\")\nexcept:\n    print(\"ERROR: Could not import all libraries!\\n\")\n\n%matplotlib inline"
        }, 
        {
            "source": "# Part 1 <a class=\"anchor\" id=\"Part1\"></a>\n### __Data Identification and Preparation__", 
            "cell_type": "markdown", 
            "metadata": {}
        }, 
        {
            "source": "### 2. Scraping and Cleaning Toronto Neighborhood Data <a class=\"anchor\" id=\"neighborhood_data\"></a>\n", 
            "cell_type": "markdown", 
            "metadata": {}
        }, 
        {
            "source": "__Read given wikipedia web page using pandas read_html method (Altho BS4 BeautifulSoup is installedand & imported but I have Not used it)__", 
            "cell_type": "markdown", 
            "metadata": {}
        }, 
        {
            "execution_count": 2, 
            "cell_type": "code", 
            "metadata": {}, 
            "outputs": [
                {
                    "output_type": "stream", 
                    "name": "stdout", 
                    "text": "Reading web page ...\nWeb page read  successful !\n"
                }
            ], 
            "source": "try:\n    print(\"Reading web page ...\")\n    url = 'https://en.wikipedia.org/wiki/List_of_postal_codes_of_Canada:_M'\n    wikipage = pd.read_html(url)\n    print(\"Web page read  successful !\")\nexcept:\n    print(\"ERROR: could not read web page.\\n\")"
        }, 
        {
            "source": "__Check object type of wikipage object__", 
            "cell_type": "markdown", 
            "metadata": {}
        }, 
        {
            "execution_count": 3, 
            "cell_type": "code", 
            "metadata": {}, 
            "outputs": [
                {
                    "execution_count": 3, 
                    "metadata": {}, 
                    "data": {
                        "text/plain": "list"
                    }, 
                    "output_type": "execute_result"
                }
            ], 
            "source": "type(wikipage)"
        }, 
        {
            "source": "__wikipage object type is list, get the length of list object__", 
            "cell_type": "markdown", 
            "metadata": {}
        }, 
        {
            "execution_count": 4, 
            "cell_type": "code", 
            "metadata": {}, 
            "outputs": [
                {
                    "execution_count": 4, 
                    "metadata": {}, 
                    "data": {
                        "text/plain": "3"
                    }, 
                    "output_type": "execute_result"
                }
            ], 
            "source": "len(wikipage)"
        }, 
        {
            "source": "__length of wikipage list is 3, check all 3 elements of list one by one__", 
            "cell_type": "markdown", 
            "metadata": {}
        }, 
        {
            "execution_count": 5, 
            "cell_type": "code", 
            "metadata": {}, 
            "outputs": [
                {
                    "execution_count": 5, 
                    "metadata": {}, 
                    "data": {
                        "text/html": "<div>\n<style scoped>\n    .dataframe tbody tr th:only-of-type {\n        vertical-align: middle;\n    }\n\n    .dataframe tbody tr th {\n        vertical-align: top;\n    }\n\n    .dataframe thead th {\n        text-align: right;\n    }\n</style>\n<table border=\"1\" class=\"dataframe\">\n  <thead>\n    <tr style=\"text-align: right;\">\n      <th></th>\n      <th>0</th>\n      <th>1</th>\n      <th>2</th>\n    </tr>\n  </thead>\n  <tbody>\n    <tr>\n      <th>0</th>\n      <td>Postcode</td>\n      <td>Borough</td>\n      <td>Neighbourhood</td>\n    </tr>\n    <tr>\n      <th>1</th>\n      <td>M1A</td>\n      <td>Not assigned</td>\n      <td>Not assigned</td>\n    </tr>\n    <tr>\n      <th>2</th>\n      <td>M2A</td>\n      <td>Not assigned</td>\n      <td>Not assigned</td>\n    </tr>\n    <tr>\n      <th>3</th>\n      <td>M3A</td>\n      <td>North York</td>\n      <td>Parkwoods</td>\n    </tr>\n    <tr>\n      <th>4</th>\n      <td>M4A</td>\n      <td>North York</td>\n      <td>Victoria Village</td>\n    </tr>\n    <tr>\n      <th>5</th>\n      <td>M5A</td>\n      <td>Downtown Toronto</td>\n      <td>Harbourfront</td>\n    </tr>\n    <tr>\n      <th>6</th>\n      <td>M5A</td>\n      <td>Downtown Toronto</td>\n      <td>Regent Park</td>\n    </tr>\n    <tr>\n      <th>7</th>\n      <td>M6A</td>\n      <td>North York</td>\n      <td>Lawrence Heights</td>\n    </tr>\n    <tr>\n      <th>8</th>\n      <td>M6A</td>\n      <td>North York</td>\n      <td>Lawrence Manor</td>\n    </tr>\n    <tr>\n      <th>9</th>\n      <td>M7A</td>\n      <td>Queen's Park</td>\n      <td>Not assigned</td>\n    </tr>\n    <tr>\n      <th>10</th>\n      <td>M8A</td>\n      <td>Not assigned</td>\n      <td>Not assigned</td>\n    </tr>\n    <tr>\n      <th>11</th>\n      <td>M9A</td>\n      <td>Etobicoke</td>\n      <td>Islington Avenue</td>\n    </tr>\n    <tr>\n      <th>12</th>\n      <td>M1B</td>\n      <td>Scarborough</td>\n      <td>Rouge</td>\n    </tr>\n    <tr>\n      <th>13</th>\n      <td>M1B</td>\n      <td>Scarborough</td>\n      <td>Malvern</td>\n    </tr>\n    <tr>\n      <th>14</th>\n      <td>M2B</td>\n      <td>Not assigned</td>\n      <td>Not assigned</td>\n    </tr>\n    <tr>\n      <th>15</th>\n      <td>M3B</td>\n      <td>North York</td>\n      <td>Don Mills North</td>\n    </tr>\n    <tr>\n      <th>16</th>\n      <td>M4B</td>\n      <td>East York</td>\n      <td>Woodbine Gardens</td>\n    </tr>\n    <tr>\n      <th>17</th>\n      <td>M4B</td>\n      <td>East York</td>\n      <td>Parkview Hill</td>\n    </tr>\n    <tr>\n      <th>18</th>\n      <td>M5B</td>\n      <td>Downtown Toronto</td>\n      <td>Ryerson</td>\n    </tr>\n    <tr>\n      <th>19</th>\n      <td>M5B</td>\n      <td>Downtown Toronto</td>\n      <td>Garden District</td>\n    </tr>\n    <tr>\n      <th>20</th>\n      <td>M6B</td>\n      <td>North York</td>\n      <td>Glencairn</td>\n    </tr>\n    <tr>\n      <th>21</th>\n      <td>M7B</td>\n      <td>Not assigned</td>\n      <td>Not assigned</td>\n    </tr>\n    <tr>\n      <th>22</th>\n      <td>M8B</td>\n      <td>Not assigned</td>\n      <td>Not assigned</td>\n    </tr>\n    <tr>\n      <th>23</th>\n      <td>M9B</td>\n      <td>Etobicoke</td>\n      <td>Cloverdale</td>\n    </tr>\n    <tr>\n      <th>24</th>\n      <td>M9B</td>\n      <td>Etobicoke</td>\n      <td>Islington</td>\n    </tr>\n    <tr>\n      <th>25</th>\n      <td>M9B</td>\n      <td>Etobicoke</td>\n      <td>Martin Grove</td>\n    </tr>\n    <tr>\n      <th>26</th>\n      <td>M9B</td>\n      <td>Etobicoke</td>\n      <td>Princess Gardens</td>\n    </tr>\n    <tr>\n      <th>27</th>\n      <td>M9B</td>\n      <td>Etobicoke</td>\n      <td>West Deane Park</td>\n    </tr>\n    <tr>\n      <th>28</th>\n      <td>M1C</td>\n      <td>Scarborough</td>\n      <td>Highland Creek</td>\n    </tr>\n    <tr>\n      <th>29</th>\n      <td>M1C</td>\n      <td>Scarborough</td>\n      <td>Rouge Hill</td>\n    </tr>\n    <tr>\n      <th>...</th>\n      <td>...</td>\n      <td>...</td>\n      <td>...</td>\n    </tr>\n    <tr>\n      <th>260</th>\n      <td>M9X</td>\n      <td>Not assigned</td>\n      <td>Not assigned</td>\n    </tr>\n    <tr>\n      <th>261</th>\n      <td>M1Y</td>\n      <td>Not assigned</td>\n      <td>Not assigned</td>\n    </tr>\n    <tr>\n      <th>262</th>\n      <td>M2Y</td>\n      <td>Not assigned</td>\n      <td>Not assigned</td>\n    </tr>\n    <tr>\n      <th>263</th>\n      <td>M3Y</td>\n      <td>Not assigned</td>\n      <td>Not assigned</td>\n    </tr>\n    <tr>\n      <th>264</th>\n      <td>M4Y</td>\n      <td>Downtown Toronto</td>\n      <td>Church and Wellesley</td>\n    </tr>\n    <tr>\n      <th>265</th>\n      <td>M5Y</td>\n      <td>Not assigned</td>\n      <td>Not assigned</td>\n    </tr>\n    <tr>\n      <th>266</th>\n      <td>M6Y</td>\n      <td>Not assigned</td>\n      <td>Not assigned</td>\n    </tr>\n    <tr>\n      <th>267</th>\n      <td>M7Y</td>\n      <td>East Toronto</td>\n      <td>Business Reply Mail Processing Centre 969 Eastern</td>\n    </tr>\n    <tr>\n      <th>268</th>\n      <td>M8Y</td>\n      <td>Etobicoke</td>\n      <td>Humber Bay</td>\n    </tr>\n    <tr>\n      <th>269</th>\n      <td>M8Y</td>\n      <td>Etobicoke</td>\n      <td>King's Mill Park</td>\n    </tr>\n    <tr>\n      <th>270</th>\n      <td>M8Y</td>\n      <td>Etobicoke</td>\n      <td>Kingsway Park South East</td>\n    </tr>\n    <tr>\n      <th>271</th>\n      <td>M8Y</td>\n      <td>Etobicoke</td>\n      <td>Mimico NE</td>\n    </tr>\n    <tr>\n      <th>272</th>\n      <td>M8Y</td>\n      <td>Etobicoke</td>\n      <td>Old Mill South</td>\n    </tr>\n    <tr>\n      <th>273</th>\n      <td>M8Y</td>\n      <td>Etobicoke</td>\n      <td>The Queensway East</td>\n    </tr>\n    <tr>\n      <th>274</th>\n      <td>M8Y</td>\n      <td>Etobicoke</td>\n      <td>Royal York South East</td>\n    </tr>\n    <tr>\n      <th>275</th>\n      <td>M8Y</td>\n      <td>Etobicoke</td>\n      <td>Sunnylea</td>\n    </tr>\n    <tr>\n      <th>276</th>\n      <td>M9Y</td>\n      <td>Not assigned</td>\n      <td>Not assigned</td>\n    </tr>\n    <tr>\n      <th>277</th>\n      <td>M1Z</td>\n      <td>Not assigned</td>\n      <td>Not assigned</td>\n    </tr>\n    <tr>\n      <th>278</th>\n      <td>M2Z</td>\n      <td>Not assigned</td>\n      <td>Not assigned</td>\n    </tr>\n    <tr>\n      <th>279</th>\n      <td>M3Z</td>\n      <td>Not assigned</td>\n      <td>Not assigned</td>\n    </tr>\n    <tr>\n      <th>280</th>\n      <td>M4Z</td>\n      <td>Not assigned</td>\n      <td>Not assigned</td>\n    </tr>\n    <tr>\n      <th>281</th>\n      <td>M5Z</td>\n      <td>Not assigned</td>\n      <td>Not assigned</td>\n    </tr>\n    <tr>\n      <th>282</th>\n      <td>M6Z</td>\n      <td>Not assigned</td>\n      <td>Not assigned</td>\n    </tr>\n    <tr>\n      <th>283</th>\n      <td>M7Z</td>\n      <td>Not assigned</td>\n      <td>Not assigned</td>\n    </tr>\n    <tr>\n      <th>284</th>\n      <td>M8Z</td>\n      <td>Etobicoke</td>\n      <td>Kingsway Park South West</td>\n    </tr>\n    <tr>\n      <th>285</th>\n      <td>M8Z</td>\n      <td>Etobicoke</td>\n      <td>Mimico NW</td>\n    </tr>\n    <tr>\n      <th>286</th>\n      <td>M8Z</td>\n      <td>Etobicoke</td>\n      <td>The Queensway West</td>\n    </tr>\n    <tr>\n      <th>287</th>\n      <td>M8Z</td>\n      <td>Etobicoke</td>\n      <td>Royal York South West</td>\n    </tr>\n    <tr>\n      <th>288</th>\n      <td>M8Z</td>\n      <td>Etobicoke</td>\n      <td>South of Bloor</td>\n    </tr>\n    <tr>\n      <th>289</th>\n      <td>M9Z</td>\n      <td>Not assigned</td>\n      <td>Not assigned</td>\n    </tr>\n  </tbody>\n</table>\n<p>290 rows \u00d7 3 columns</p>\n</div>", 
                        "text/plain": "            0                 1  \\\n0    Postcode           Borough   \n1         M1A      Not assigned   \n2         M2A      Not assigned   \n3         M3A        North York   \n4         M4A        North York   \n5         M5A  Downtown Toronto   \n6         M5A  Downtown Toronto   \n7         M6A        North York   \n8         M6A        North York   \n9         M7A      Queen's Park   \n10        M8A      Not assigned   \n11        M9A         Etobicoke   \n12        M1B       Scarborough   \n13        M1B       Scarborough   \n14        M2B      Not assigned   \n15        M3B        North York   \n16        M4B         East York   \n17        M4B         East York   \n18        M5B  Downtown Toronto   \n19        M5B  Downtown Toronto   \n20        M6B        North York   \n21        M7B      Not assigned   \n22        M8B      Not assigned   \n23        M9B         Etobicoke   \n24        M9B         Etobicoke   \n25        M9B         Etobicoke   \n26        M9B         Etobicoke   \n27        M9B         Etobicoke   \n28        M1C       Scarborough   \n29        M1C       Scarborough   \n..        ...               ...   \n260       M9X      Not assigned   \n261       M1Y      Not assigned   \n262       M2Y      Not assigned   \n263       M3Y      Not assigned   \n264       M4Y  Downtown Toronto   \n265       M5Y      Not assigned   \n266       M6Y      Not assigned   \n267       M7Y      East Toronto   \n268       M8Y         Etobicoke   \n269       M8Y         Etobicoke   \n270       M8Y         Etobicoke   \n271       M8Y         Etobicoke   \n272       M8Y         Etobicoke   \n273       M8Y         Etobicoke   \n274       M8Y         Etobicoke   \n275       M8Y         Etobicoke   \n276       M9Y      Not assigned   \n277       M1Z      Not assigned   \n278       M2Z      Not assigned   \n279       M3Z      Not assigned   \n280       M4Z      Not assigned   \n281       M5Z      Not assigned   \n282       M6Z      Not assigned   \n283       M7Z      Not assigned   \n284       M8Z         Etobicoke   \n285       M8Z         Etobicoke   \n286       M8Z         Etobicoke   \n287       M8Z         Etobicoke   \n288       M8Z         Etobicoke   \n289       M9Z      Not assigned   \n\n                                                     2  \n0                                        Neighbourhood  \n1                                         Not assigned  \n2                                         Not assigned  \n3                                            Parkwoods  \n4                                     Victoria Village  \n5                                         Harbourfront  \n6                                          Regent Park  \n7                                     Lawrence Heights  \n8                                       Lawrence Manor  \n9                                         Not assigned  \n10                                        Not assigned  \n11                                    Islington Avenue  \n12                                               Rouge  \n13                                             Malvern  \n14                                        Not assigned  \n15                                     Don Mills North  \n16                                    Woodbine Gardens  \n17                                       Parkview Hill  \n18                                             Ryerson  \n19                                     Garden District  \n20                                           Glencairn  \n21                                        Not assigned  \n22                                        Not assigned  \n23                                          Cloverdale  \n24                                           Islington  \n25                                        Martin Grove  \n26                                    Princess Gardens  \n27                                     West Deane Park  \n28                                      Highland Creek  \n29                                          Rouge Hill  \n..                                                 ...  \n260                                       Not assigned  \n261                                       Not assigned  \n262                                       Not assigned  \n263                                       Not assigned  \n264                               Church and Wellesley  \n265                                       Not assigned  \n266                                       Not assigned  \n267  Business Reply Mail Processing Centre 969 Eastern  \n268                                         Humber Bay  \n269                                   King's Mill Park  \n270                           Kingsway Park South East  \n271                                          Mimico NE  \n272                                     Old Mill South  \n273                                 The Queensway East  \n274                              Royal York South East  \n275                                           Sunnylea  \n276                                       Not assigned  \n277                                       Not assigned  \n278                                       Not assigned  \n279                                       Not assigned  \n280                                       Not assigned  \n281                                       Not assigned  \n282                                       Not assigned  \n283                                       Not assigned  \n284                           Kingsway Park South West  \n285                                          Mimico NW  \n286                                 The Queensway West  \n287                              Royal York South West  \n288                                     South of Bloor  \n289                                       Not assigned  \n\n[290 rows x 3 columns]"
                    }, 
                    "output_type": "execute_result"
                }
            ], 
            "source": "wikipage[0]"
        }, 
        {
            "execution_count": 6, 
            "cell_type": "code", 
            "metadata": {}, 
            "outputs": [
                {
                    "execution_count": 6, 
                    "metadata": {}, 
                    "data": {
                        "text/html": "<div>\n<style scoped>\n    .dataframe tbody tr th:only-of-type {\n        vertical-align: middle;\n    }\n\n    .dataframe tbody tr th {\n        vertical-align: top;\n    }\n\n    .dataframe thead th {\n        text-align: right;\n    }\n</style>\n<table border=\"1\" class=\"dataframe\">\n  <thead>\n    <tr style=\"text-align: right;\">\n      <th></th>\n      <th>0</th>\n      <th>1</th>\n      <th>2</th>\n      <th>3</th>\n      <th>4</th>\n      <th>5</th>\n      <th>6</th>\n      <th>7</th>\n      <th>8</th>\n      <th>9</th>\n      <th>...</th>\n      <th>21</th>\n      <th>22</th>\n      <th>23</th>\n      <th>24</th>\n      <th>25</th>\n      <th>26</th>\n      <th>27</th>\n      <th>28</th>\n      <th>29</th>\n      <th>30</th>\n    </tr>\n  </thead>\n  <tbody>\n    <tr>\n      <th>0</th>\n      <td>NaN</td>\n      <td>Canadian postal codes</td>\n      <td>NaN</td>\n      <td>NaN</td>\n      <td>NaN</td>\n      <td>NaN</td>\n      <td>NaN</td>\n      <td>NaN</td>\n      <td>NaN</td>\n      <td>NaN</td>\n      <td>...</td>\n      <td>NaN</td>\n      <td>NaN</td>\n      <td>NaN</td>\n      <td>NaN</td>\n      <td>NaN</td>\n      <td>NaN</td>\n      <td>NaN</td>\n      <td>NaN</td>\n      <td>NaN</td>\n      <td>NaN</td>\n    </tr>\n    <tr>\n      <th>1</th>\n      <td>NL NS PE NB QC ON MB SK AB BC NU/NT YT A B C E...</td>\n      <td>NL</td>\n      <td>NS</td>\n      <td>PE</td>\n      <td>NB</td>\n      <td>QC</td>\n      <td>ON</td>\n      <td>MB</td>\n      <td>SK</td>\n      <td>AB</td>\n      <td>...</td>\n      <td>L</td>\n      <td>M</td>\n      <td>N</td>\n      <td>P</td>\n      <td>R</td>\n      <td>S</td>\n      <td>T</td>\n      <td>V</td>\n      <td>X</td>\n      <td>Y</td>\n    </tr>\n    <tr>\n      <th>2</th>\n      <td>NL</td>\n      <td>NS</td>\n      <td>PE</td>\n      <td>NB</td>\n      <td>QC</td>\n      <td>ON</td>\n      <td>MB</td>\n      <td>SK</td>\n      <td>AB</td>\n      <td>BC</td>\n      <td>...</td>\n      <td>NaN</td>\n      <td>NaN</td>\n      <td>NaN</td>\n      <td>NaN</td>\n      <td>NaN</td>\n      <td>NaN</td>\n      <td>NaN</td>\n      <td>NaN</td>\n      <td>NaN</td>\n      <td>NaN</td>\n    </tr>\n    <tr>\n      <th>3</th>\n      <td>A</td>\n      <td>B</td>\n      <td>C</td>\n      <td>E</td>\n      <td>G</td>\n      <td>H</td>\n      <td>J</td>\n      <td>K</td>\n      <td>L</td>\n      <td>M</td>\n      <td>...</td>\n      <td>NaN</td>\n      <td>NaN</td>\n      <td>NaN</td>\n      <td>NaN</td>\n      <td>NaN</td>\n      <td>NaN</td>\n      <td>NaN</td>\n      <td>NaN</td>\n      <td>NaN</td>\n      <td>NaN</td>\n    </tr>\n    <tr>\n      <th>4</th>\n      <td>NL</td>\n      <td>NS</td>\n      <td>PE</td>\n      <td>NB</td>\n      <td>QC</td>\n      <td>ON</td>\n      <td>MB</td>\n      <td>SK</td>\n      <td>AB</td>\n      <td>BC</td>\n      <td>...</td>\n      <td>NaN</td>\n      <td>NaN</td>\n      <td>NaN</td>\n      <td>NaN</td>\n      <td>NaN</td>\n      <td>NaN</td>\n      <td>NaN</td>\n      <td>NaN</td>\n      <td>NaN</td>\n      <td>NaN</td>\n    </tr>\n    <tr>\n      <th>5</th>\n      <td>A</td>\n      <td>B</td>\n      <td>C</td>\n      <td>E</td>\n      <td>G</td>\n      <td>H</td>\n      <td>J</td>\n      <td>K</td>\n      <td>L</td>\n      <td>M</td>\n      <td>...</td>\n      <td>NaN</td>\n      <td>NaN</td>\n      <td>NaN</td>\n      <td>NaN</td>\n      <td>NaN</td>\n      <td>NaN</td>\n      <td>NaN</td>\n      <td>NaN</td>\n      <td>NaN</td>\n      <td>NaN</td>\n    </tr>\n  </tbody>\n</table>\n<p>6 rows \u00d7 31 columns</p>\n</div>", 
                        "text/plain": "                                                  0                      1   \\\n0                                                NaN  Canadian postal codes   \n1  NL NS PE NB QC ON MB SK AB BC NU/NT YT A B C E...                     NL   \n2                                                 NL                     NS   \n3                                                  A                      B   \n4                                                 NL                     NS   \n5                                                  A                      B   \n\n    2    3    4    5    6    7    8    9  ...    21   22   23   24   25   26  \\\n0  NaN  NaN  NaN  NaN  NaN  NaN  NaN  NaN ...   NaN  NaN  NaN  NaN  NaN  NaN   \n1   NS   PE   NB   QC   ON   MB   SK   AB ...     L    M    N    P    R    S   \n2   PE   NB   QC   ON   MB   SK   AB   BC ...   NaN  NaN  NaN  NaN  NaN  NaN   \n3    C    E    G    H    J    K    L    M ...   NaN  NaN  NaN  NaN  NaN  NaN   \n4   PE   NB   QC   ON   MB   SK   AB   BC ...   NaN  NaN  NaN  NaN  NaN  NaN   \n5    C    E    G    H    J    K    L    M ...   NaN  NaN  NaN  NaN  NaN  NaN   \n\n    27   28   29   30  \n0  NaN  NaN  NaN  NaN  \n1    T    V    X    Y  \n2  NaN  NaN  NaN  NaN  \n3  NaN  NaN  NaN  NaN  \n4  NaN  NaN  NaN  NaN  \n5  NaN  NaN  NaN  NaN  \n\n[6 rows x 31 columns]"
                    }, 
                    "output_type": "execute_result"
                }
            ], 
            "source": "wikipage[1]"
        }, 
        {
            "execution_count": 7, 
            "cell_type": "code", 
            "metadata": {}, 
            "outputs": [
                {
                    "execution_count": 7, 
                    "metadata": {}, 
                    "data": {
                        "text/html": "<div>\n<style scoped>\n    .dataframe tbody tr th:only-of-type {\n        vertical-align: middle;\n    }\n\n    .dataframe tbody tr th {\n        vertical-align: top;\n    }\n\n    .dataframe thead th {\n        text-align: right;\n    }\n</style>\n<table border=\"1\" class=\"dataframe\">\n  <thead>\n    <tr style=\"text-align: right;\">\n      <th></th>\n      <th>0</th>\n      <th>1</th>\n      <th>2</th>\n      <th>3</th>\n      <th>4</th>\n      <th>5</th>\n      <th>6</th>\n      <th>7</th>\n      <th>8</th>\n      <th>9</th>\n      <th>10</th>\n      <th>11</th>\n      <th>12</th>\n      <th>13</th>\n      <th>14</th>\n      <th>15</th>\n      <th>16</th>\n      <th>17</th>\n    </tr>\n  </thead>\n  <tbody>\n    <tr>\n      <th>0</th>\n      <td>NL</td>\n      <td>NS</td>\n      <td>PE</td>\n      <td>NB</td>\n      <td>QC</td>\n      <td>ON</td>\n      <td>MB</td>\n      <td>SK</td>\n      <td>AB</td>\n      <td>BC</td>\n      <td>NU/NT</td>\n      <td>YT</td>\n      <td>NaN</td>\n      <td>NaN</td>\n      <td>NaN</td>\n      <td>NaN</td>\n      <td>NaN</td>\n      <td>NaN</td>\n    </tr>\n    <tr>\n      <th>1</th>\n      <td>A</td>\n      <td>B</td>\n      <td>C</td>\n      <td>E</td>\n      <td>G</td>\n      <td>H</td>\n      <td>J</td>\n      <td>K</td>\n      <td>L</td>\n      <td>M</td>\n      <td>N</td>\n      <td>P</td>\n      <td>R</td>\n      <td>S</td>\n      <td>T</td>\n      <td>V</td>\n      <td>X</td>\n      <td>Y</td>\n    </tr>\n  </tbody>\n</table>\n</div>", 
                        "text/plain": "   0   1   2   3   4   5   6   7   8   9      10  11   12   13   14   15   16  \\\n0  NL  NS  PE  NB  QC  ON  MB  SK  AB  BC  NU/NT  YT  NaN  NaN  NaN  NaN  NaN   \n1   A   B   C   E   G   H   J   K   L   M      N   P    R    S    T    V    X   \n\n    17  \n0  NaN  \n1    Y  "
                    }, 
                    "output_type": "execute_result"
                }
            ], 
            "source": "wikipage[2]"
        }, 
        {
            "source": "__wikipage is nested list and our relevent data is in wikipage[0]__ ", 
            "cell_type": "markdown", 
            "metadata": {}
        }, 
        {
            "source": "__Create a data frame using list wikipage[0]__", 
            "cell_type": "markdown", 
            "metadata": {}
        }, 
        {
            "execution_count": 8, 
            "cell_type": "code", 
            "metadata": {}, 
            "outputs": [
                {
                    "execution_count": 8, 
                    "metadata": {}, 
                    "data": {
                        "text/html": "<div>\n<style scoped>\n    .dataframe tbody tr th:only-of-type {\n        vertical-align: middle;\n    }\n\n    .dataframe tbody tr th {\n        vertical-align: top;\n    }\n\n    .dataframe thead th {\n        text-align: right;\n    }\n</style>\n<table border=\"1\" class=\"dataframe\">\n  <thead>\n    <tr style=\"text-align: right;\">\n      <th></th>\n      <th>0</th>\n      <th>1</th>\n      <th>2</th>\n    </tr>\n  </thead>\n  <tbody>\n    <tr>\n      <th>0</th>\n      <td>Postcode</td>\n      <td>Borough</td>\n      <td>Neighbourhood</td>\n    </tr>\n    <tr>\n      <th>1</th>\n      <td>M1A</td>\n      <td>Not assigned</td>\n      <td>Not assigned</td>\n    </tr>\n    <tr>\n      <th>2</th>\n      <td>M2A</td>\n      <td>Not assigned</td>\n      <td>Not assigned</td>\n    </tr>\n    <tr>\n      <th>3</th>\n      <td>M3A</td>\n      <td>North York</td>\n      <td>Parkwoods</td>\n    </tr>\n    <tr>\n      <th>4</th>\n      <td>M4A</td>\n      <td>North York</td>\n      <td>Victoria Village</td>\n    </tr>\n  </tbody>\n</table>\n</div>", 
                        "text/plain": "          0             1                 2\n0  Postcode       Borough     Neighbourhood\n1       M1A  Not assigned      Not assigned\n2       M2A  Not assigned      Not assigned\n3       M3A    North York         Parkwoods\n4       M4A    North York  Victoria Village"
                    }, 
                    "output_type": "execute_result"
                }
            ], 
            "source": "neighbour = pd.DataFrame(wikipage[0])\nneighbour.head()"
        }, 
        {
            "source": "__Assign proper header to data frame which is first row of data frame itself ['Postcode','Borough','Neighbourhood']__", 
            "cell_type": "markdown", 
            "metadata": {}
        }, 
        {
            "execution_count": 9, 
            "cell_type": "code", 
            "metadata": {}, 
            "outputs": [
                {
                    "execution_count": 9, 
                    "metadata": {}, 
                    "data": {
                        "text/plain": "[['Postcode', 'Borough', 'Neighbourhood']]"
                    }, 
                    "output_type": "execute_result"
                }
            ], 
            "source": "header=neighbour[0:1].values.tolist()\nheader"
        }, 
        {
            "execution_count": 10, 
            "cell_type": "code", 
            "metadata": {}, 
            "outputs": [], 
            "source": "header = header[0]"
        }, 
        {
            "execution_count": 11, 
            "cell_type": "code", 
            "metadata": {}, 
            "outputs": [
                {
                    "execution_count": 11, 
                    "metadata": {}, 
                    "data": {
                        "text/html": "<div>\n<style scoped>\n    .dataframe tbody tr th:only-of-type {\n        vertical-align: middle;\n    }\n\n    .dataframe tbody tr th {\n        vertical-align: top;\n    }\n\n    .dataframe thead th {\n        text-align: right;\n    }\n</style>\n<table border=\"1\" class=\"dataframe\">\n  <thead>\n    <tr style=\"text-align: right;\">\n      <th></th>\n      <th>Postcode</th>\n      <th>Borough</th>\n      <th>Neighbourhood</th>\n    </tr>\n  </thead>\n  <tbody>\n    <tr>\n      <th>0</th>\n      <td>Postcode</td>\n      <td>Borough</td>\n      <td>Neighbourhood</td>\n    </tr>\n    <tr>\n      <th>1</th>\n      <td>M1A</td>\n      <td>Not assigned</td>\n      <td>Not assigned</td>\n    </tr>\n    <tr>\n      <th>2</th>\n      <td>M2A</td>\n      <td>Not assigned</td>\n      <td>Not assigned</td>\n    </tr>\n    <tr>\n      <th>3</th>\n      <td>M3A</td>\n      <td>North York</td>\n      <td>Parkwoods</td>\n    </tr>\n    <tr>\n      <th>4</th>\n      <td>M4A</td>\n      <td>North York</td>\n      <td>Victoria Village</td>\n    </tr>\n  </tbody>\n</table>\n</div>", 
                        "text/plain": "   Postcode       Borough     Neighbourhood\n0  Postcode       Borough     Neighbourhood\n1       M1A  Not assigned      Not assigned\n2       M2A  Not assigned      Not assigned\n3       M3A    North York         Parkwoods\n4       M4A    North York  Victoria Village"
                    }, 
                    "output_type": "execute_result"
                }
            ], 
            "source": "neighbour.columns = header\nneighbour.head()"
        }, 
        {
            "source": "__Delete row 0  and reset index - Cleenup neighbour data frame__", 
            "cell_type": "markdown", 
            "metadata": {}
        }, 
        {
            "execution_count": 12, 
            "cell_type": "code", 
            "metadata": {}, 
            "outputs": [
                {
                    "execution_count": 12, 
                    "metadata": {}, 
                    "data": {
                        "text/html": "<div>\n<style scoped>\n    .dataframe tbody tr th:only-of-type {\n        vertical-align: middle;\n    }\n\n    .dataframe tbody tr th {\n        vertical-align: top;\n    }\n\n    .dataframe thead th {\n        text-align: right;\n    }\n</style>\n<table border=\"1\" class=\"dataframe\">\n  <thead>\n    <tr style=\"text-align: right;\">\n      <th></th>\n      <th>Postcode</th>\n      <th>Borough</th>\n      <th>Neighbourhood</th>\n    </tr>\n  </thead>\n  <tbody>\n    <tr>\n      <th>0</th>\n      <td>M1A</td>\n      <td>Not assigned</td>\n      <td>Not assigned</td>\n    </tr>\n    <tr>\n      <th>1</th>\n      <td>M2A</td>\n      <td>Not assigned</td>\n      <td>Not assigned</td>\n    </tr>\n    <tr>\n      <th>2</th>\n      <td>M3A</td>\n      <td>North York</td>\n      <td>Parkwoods</td>\n    </tr>\n    <tr>\n      <th>3</th>\n      <td>M4A</td>\n      <td>North York</td>\n      <td>Victoria Village</td>\n    </tr>\n    <tr>\n      <th>4</th>\n      <td>M5A</td>\n      <td>Downtown Toronto</td>\n      <td>Harbourfront</td>\n    </tr>\n  </tbody>\n</table>\n</div>", 
                        "text/plain": "  Postcode           Borough     Neighbourhood\n0      M1A      Not assigned      Not assigned\n1      M2A      Not assigned      Not assigned\n2      M3A        North York         Parkwoods\n3      M4A        North York  Victoria Village\n4      M5A  Downtown Toronto      Harbourfront"
                    }, 
                    "output_type": "execute_result"
                }
            ], 
            "source": "neighbour.drop(neighbour.index[:1], inplace=True)\nneighbour.reset_index(drop=True, inplace=True)\nneighbour.head()"
        }, 
        {
            "source": "__Clear all rows where Borough is \"Not assigned\"and reset index - Cleenup neighbour data frame__", 
            "cell_type": "markdown", 
            "metadata": {}
        }, 
        {
            "execution_count": 13, 
            "cell_type": "code", 
            "metadata": {}, 
            "outputs": [
                {
                    "execution_count": 13, 
                    "metadata": {}, 
                    "data": {
                        "text/html": "<div>\n<style scoped>\n    .dataframe tbody tr th:only-of-type {\n        vertical-align: middle;\n    }\n\n    .dataframe tbody tr th {\n        vertical-align: top;\n    }\n\n    .dataframe thead th {\n        text-align: right;\n    }\n</style>\n<table border=\"1\" class=\"dataframe\">\n  <thead>\n    <tr style=\"text-align: right;\">\n      <th></th>\n      <th>Postcode</th>\n      <th>Borough</th>\n      <th>Neighbourhood</th>\n    </tr>\n  </thead>\n  <tbody>\n    <tr>\n      <th>0</th>\n      <td>M3A</td>\n      <td>North York</td>\n      <td>Parkwoods</td>\n    </tr>\n    <tr>\n      <th>1</th>\n      <td>M4A</td>\n      <td>North York</td>\n      <td>Victoria Village</td>\n    </tr>\n    <tr>\n      <th>2</th>\n      <td>M5A</td>\n      <td>Downtown Toronto</td>\n      <td>Harbourfront</td>\n    </tr>\n    <tr>\n      <th>3</th>\n      <td>M5A</td>\n      <td>Downtown Toronto</td>\n      <td>Regent Park</td>\n    </tr>\n    <tr>\n      <th>4</th>\n      <td>M6A</td>\n      <td>North York</td>\n      <td>Lawrence Heights</td>\n    </tr>\n  </tbody>\n</table>\n</div>", 
                        "text/plain": "  Postcode           Borough     Neighbourhood\n0      M3A        North York         Parkwoods\n1      M4A        North York  Victoria Village\n2      M5A  Downtown Toronto      Harbourfront\n3      M5A  Downtown Toronto       Regent Park\n4      M6A        North York  Lawrence Heights"
                    }, 
                    "output_type": "execute_result"
                }
            ], 
            "source": "# Replace all 'Not assigned' in borough with np.nan\nneighbour.replace({'Borough': 'Not assigned' }, np.nan, inplace = True)\n# Drop whole row with NaN in \"Borough\" column\nneighbour.dropna(subset=[\"Borough\"], axis=0, inplace=True)\n# reset index, because we droped some rows\nneighbour.reset_index(drop=True, inplace=True)\nneighbour.head()"
        }, 
        {
            "source": "__Merge neighbourhood with same postal code - Prepare neighbour data frame__", 
            "cell_type": "markdown", 
            "metadata": {}
        }, 
        {
            "execution_count": 14, 
            "cell_type": "code", 
            "metadata": {}, 
            "outputs": [
                {
                    "execution_count": 14, 
                    "metadata": {}, 
                    "data": {
                        "text/html": "<div>\n<style scoped>\n    .dataframe tbody tr th:only-of-type {\n        vertical-align: middle;\n    }\n\n    .dataframe tbody tr th {\n        vertical-align: top;\n    }\n\n    .dataframe thead th {\n        text-align: right;\n    }\n</style>\n<table border=\"1\" class=\"dataframe\">\n  <thead>\n    <tr style=\"text-align: right;\">\n      <th></th>\n      <th>Postcode</th>\n      <th>Borough</th>\n      <th>Neighbourhood</th>\n    </tr>\n  </thead>\n  <tbody>\n    <tr>\n      <th>0</th>\n      <td>M1B</td>\n      <td>Scarborough</td>\n      <td>Rouge, Malvern</td>\n    </tr>\n    <tr>\n      <th>1</th>\n      <td>M1C</td>\n      <td>Scarborough</td>\n      <td>Highland Creek, Rouge Hill, Port Union</td>\n    </tr>\n    <tr>\n      <th>2</th>\n      <td>M1E</td>\n      <td>Scarborough</td>\n      <td>Guildwood, Morningside, West Hill</td>\n    </tr>\n    <tr>\n      <th>3</th>\n      <td>M1G</td>\n      <td>Scarborough</td>\n      <td>Woburn</td>\n    </tr>\n    <tr>\n      <th>4</th>\n      <td>M1H</td>\n      <td>Scarborough</td>\n      <td>Cedarbrae</td>\n    </tr>\n  </tbody>\n</table>\n</div>", 
                        "text/plain": "  Postcode      Borough                           Neighbourhood\n0      M1B  Scarborough                          Rouge, Malvern\n1      M1C  Scarborough  Highland Creek, Rouge Hill, Port Union\n2      M1E  Scarborough       Guildwood, Morningside, West Hill\n3      M1G  Scarborough                                  Woburn\n4      M1H  Scarborough                               Cedarbrae"
                    }, 
                    "output_type": "execute_result"
                }
            ], 
            "source": "# Groupby and join can be used for the purpose\nneighbour = neighbour.groupby(['Postcode','Borough'])['Neighbourhood'].apply(', '.join).reset_index()\nneighbour.head()"
        }, 
        {
            "source": "__Set Neighbourhood =  Brough where neighbourhood is equal to 'Not assigned' - Prepare neighbour data frame__", 
            "cell_type": "markdown", 
            "metadata": {}
        }, 
        {
            "execution_count": 15, 
            "cell_type": "code", 
            "metadata": {}, 
            "outputs": [
                {
                    "execution_count": 15, 
                    "metadata": {}, 
                    "data": {
                        "text/html": "<div>\n<style scoped>\n    .dataframe tbody tr th:only-of-type {\n        vertical-align: middle;\n    }\n\n    .dataframe tbody tr th {\n        vertical-align: top;\n    }\n\n    .dataframe thead th {\n        text-align: right;\n    }\n</style>\n<table border=\"1\" class=\"dataframe\">\n  <thead>\n    <tr style=\"text-align: right;\">\n      <th></th>\n      <th>Postcode</th>\n      <th>Borough</th>\n      <th>Neighbourhood</th>\n    </tr>\n  </thead>\n  <tbody>\n    <tr>\n      <th>0</th>\n      <td>M1B</td>\n      <td>Scarborough</td>\n      <td>Rouge, Malvern</td>\n    </tr>\n    <tr>\n      <th>1</th>\n      <td>M1C</td>\n      <td>Scarborough</td>\n      <td>Highland Creek, Rouge Hill, Port Union</td>\n    </tr>\n    <tr>\n      <th>2</th>\n      <td>M1E</td>\n      <td>Scarborough</td>\n      <td>Guildwood, Morningside, West Hill</td>\n    </tr>\n    <tr>\n      <th>3</th>\n      <td>M1G</td>\n      <td>Scarborough</td>\n      <td>Woburn</td>\n    </tr>\n    <tr>\n      <th>4</th>\n      <td>M1H</td>\n      <td>Scarborough</td>\n      <td>Cedarbrae</td>\n    </tr>\n  </tbody>\n</table>\n</div>", 
                        "text/plain": "  Postcode      Borough                           Neighbourhood\n0      M1B  Scarborough                          Rouge, Malvern\n1      M1C  Scarborough  Highland Creek, Rouge Hill, Port Union\n2      M1E  Scarborough       Guildwood, Morningside, West Hill\n3      M1G  Scarborough                                  Woburn\n4      M1H  Scarborough                               Cedarbrae"
                    }, 
                    "output_type": "execute_result"
                }
            ], 
            "source": "neighbour['Neighbourhood'] = np.where(neighbour['Neighbourhood'] == 'Not assigned', neighbour['Borough'], neighbour['Neighbourhood'])\nneighbour.head()"
        }, 
        {
            "source": "__Neighbour data frame shape__", 
            "cell_type": "markdown", 
            "metadata": {}
        }, 
        {
            "execution_count": 16, 
            "cell_type": "code", 
            "metadata": {}, 
            "outputs": [
                {
                    "execution_count": 16, 
                    "metadata": {}, 
                    "data": {
                        "text/plain": "(103, 3)"
                    }, 
                    "output_type": "execute_result"
                }
            ], 
            "source": "neighbour.shape"
        }
    ], 
    "metadata": {
        "kernelspec": {
            "display_name": "Python 3.5", 
            "name": "python3", 
            "language": "python"
        }, 
        "language_info": {
            "mimetype": "text/x-python", 
            "nbconvert_exporter": "python", 
            "version": "3.5.5", 
            "name": "python", 
            "file_extension": ".py", 
            "pygments_lexer": "ipython3", 
            "codemirror_mode": {
                "version": 3, 
                "name": "ipython"
            }
        }
    }, 
    "nbformat": 4
}